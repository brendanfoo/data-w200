{
 "cells": [
  {
   "cell_type": "markdown",
   "metadata": {
    "id": "DQg2BdFIg7TM"
   },
   "source": [
    "# W200 Introduction to Data Science Programming, UC Berkeley MIDS\n",
    "\n",
    "\n",
    "## Instructions\n",
    "The final exam is designed to evaluate your grasp of Python theory as well as Python coding.\n",
    "\n",
    "- This is an individual exam.\n",
    "- You have 48 hours to complete the exam, starting from the point at which you first access it.\n",
    "- You will be graded on the quality of your answers.  Use clear, persuasive arguments based on concepts we covered in class.\n",
    "- Please double-click the markdown cells where it says \"Your answer here\" to input answers (if you need more cells please make them markdown cells)\n",
    "- Use only Python standard libraries, matplotlib, seaborn, NumPy and Pandas for this exam\n",
    "- Upload your exam to gradescope and your github repo in the folder /SUBMISSIONS/final_exam/. **The code version uploaded to Part 2 will be your official version for grading purposes.**\n",
    "- There is no autograder for this notebook - your exam will be manually graded.\n",
    "- Please restart and run all cells before submitting so that all of your answers are shown. You do not need to upload the dataset into gradescope or github."
   ]
  },
  {
   "cell_type": "markdown",
   "metadata": {
    "id": "hfJDE2HWg7TT"
   },
   "source": [
    "## YOUR NAME HERE"
   ]
  },
  {
   "cell_type": "markdown",
   "metadata": {
    "id": "Dxxzo-O4g7TU"
   },
   "source": [
    "## 1: Short Answer Questions (25 pts - each question = 5 pts)\n",
    "\n",
    "a) The following class ```Cart``` and method ```add_to_cart``` are parts of a larger program used by a mobile phone company.  The method ```add_to_cart``` will work when an object of type MobileDevice or of type ServiceContract is passed to it. State whether the method ```add_to_cart``` is a demonstration of the following items (yes/no) and the reasoning (1-2 sentences): \n",
    "\n",
    "    1. Inheritance\n",
    "    2. Polymorphism\n",
    "    3. Object-Oriented programming\n",
    "    4. Top-down design\n",
    "    5. Functional programming"
   ]
  },
  {
   "cell_type": "code",
   "execution_count": 1,
   "metadata": {
    "id": "okLhQLwfg7TV"
   },
   "outputs": [],
   "source": [
    "# Method:\n",
    "class Cart():\n",
    "    \n",
    "    def __init__(self):\n",
    "        self.cart = []\n",
    "        self.total = 0\n",
    "    \n",
    "    def add_to_cart(self, item):\n",
    "        self.cart.append(item)\n",
    "        self.total += item.price"
   ]
  },
  {
   "cell_type": "markdown",
   "metadata": {
    "id": "syKK8Dj_g7Ta"
   },
   "source": [
    "1. Inheritance: No. There is no indication of inheritance here since our class Cart is not inheriting any properties or methods from another class.\n",
    "2. Polymorphism: No. There is no demonstration of polymorphism since there is only one method. A demonstration of polymorphism would be multiple methods having the same name but different parameters to distinguish themselves from one another.\n",
    "3. Object-Oriented programming: Yes. OOP uses classes and objects to input properties and behaviors into individual objects. Here, we have the class Cart where we can create a Cart object with its innit method and its own instance method add_to_cart.\n",
    "4. Top-down design: Yes. There is a demonstration of top down design in our class. We first have the innit constructor method that builds the object and inputs the initial properties into the object instance. We then have a method add_to_cart that modifies the properties of the object.\n",
    "5. Functional programming: No. Since we are using OOP, there is no functional programming. Another way to look at it is we are also mutating properties of the object but functional programming emphasizes immutability, hence this is violated."
   ]
  },
  {
   "cell_type": "markdown",
   "metadata": {
    "id": "JdTWk7xZg7Ta"
   },
   "source": [
    "b) Suppose you have a long list of digits (0-9) that you want to write to a file.  From a storage standpoint, would it be more efficient to use ASCII or UTF-8 as an encoding? What is the most efficient way to create an even smaller file to store the information?"
   ]
  },
  {
   "cell_type": "markdown",
   "metadata": {
    "id": "UDRs-eIxg7Tb"
   },
   "source": [
    "For this character range, there is no difference between using ASCII and UTF-8 since they both use one byte for digits 0-9, hence from a storage standpoint, they are both equally efficient. To create an even smaller file to store the information, we can change the numbers to their binary equivalent or use some compression algorithm."
   ]
  },
  {
   "cell_type": "markdown",
   "metadata": {
    "id": "RMIrgGNjg7Tc"
   },
   "source": [
    "c) How would you sanity-check your data? Why is it important to sanity-check your data before you begin your analysis? What could happen if you don't?"
   ]
  },
  {
   "cell_type": "markdown",
   "metadata": {
    "collapsed": true,
    "id": "errKkCYQg7Td"
   },
   "source": [
    "You can sanity-check your data by checking the maximum and minimum values, briefly looking through the dataset or check for duplicates to see if your data makes sense and does not contain data that looks wrong. It is important to sanity-check your data before you begin your analysis so you are only dealing with filtered data without major errors. These errors typically cause major bias in your statistical results and may lead you to arrive at the wrong conclusions. Without a sanity check, your results may not make sense at all and this is something easily avoidable by simply checking if your dataset makes sense."
   ]
  },
  {
   "cell_type": "markdown",
   "metadata": {
    "id": "pY3aAxV-g7Te"
   },
   "source": [
    "d) How do you determine which variables in your dataset you should check for issues prior to starting an analysis? "
   ]
  },
  {
   "cell_type": "markdown",
   "metadata": {
    "collapsed": true,
    "id": "doSOqeqog7Te"
   },
   "source": [
    "FOr the variables that you are looking at, you want to make sure there are no missing values, if there are duplicate values, should they be there, what order of magnitude are you dealing with, are they all the same data type, etc. This process is applicable to all the variables you look at and which variables you look at depends on whether they are relevant to your study, if not they should just be dropped."
   ]
  },
  {
   "cell_type": "markdown",
   "metadata": {
    "id": "GQjhe5avg7Tf"
   },
   "source": [
    "e1) Explain why the following code prints what it does."
   ]
  },
  {
   "cell_type": "code",
   "execution_count": 2,
   "metadata": {
    "id": "j2cQqWirg7Tg"
   },
   "outputs": [
    {
     "name": "stdout",
     "output_type": "stream",
     "text": [
      "<class 'function'>\n"
     ]
    }
   ],
   "source": [
    "def g(): pass\n",
    "print(type(g))"
   ]
  },
  {
   "cell_type": "markdown",
   "metadata": {
    "id": "YOrDq07ag7Th"
   },
   "source": [
    "Here, we define the function named 'g'. Regardless of what it does in the function, in this case, it passes, it remains as a function. Calling type on the input will show you the object type. Since we are calling type on g, which is a function, it returns the class function. Print then prints out the returned type which is the class function."
   ]
  },
  {
   "cell_type": "markdown",
   "metadata": {
    "id": "MAs1nQZ_g7Th"
   },
   "source": [
    "e2) Explain why the following code prints something different."
   ]
  },
  {
   "cell_type": "code",
   "execution_count": 3,
   "metadata": {
    "id": "1b49c_4Ag7Ti"
   },
   "outputs": [
    {
     "name": "stdout",
     "output_type": "stream",
     "text": [
      "<class 'NoneType'>\n"
     ]
    }
   ],
   "source": [
    "def g(): pass\n",
    "print(type(g()))"
   ]
  },
  {
   "cell_type": "markdown",
   "metadata": {
    "id": "9jBjkguyg7Tj"
   },
   "source": [
    "Unlike the previous one, instead of calling type on g, we are calling type after calling g. Since the function g only has pass and does not return anything, calling g returns None. Hence, calling type on None returns the NoneType class."
   ]
  },
  {
   "cell_type": "markdown",
   "metadata": {
    "id": "jtHAe_5Pg7Tj"
   },
   "source": [
    "## 2:  General Coding Questions (15 pts - each question 5 pts)"
   ]
  },
  {
   "cell_type": "markdown",
   "metadata": {
    "id": "2EAQnoKwg7Tj"
   },
   "source": [
    "a) Using a dictionary comprehension, make a dictionary with the keys being the lowercase vowels (aeiou) and the values being the number of vowels in the example_text (case insensitive). Fill in a dictionary comprehension below so that we get this desired output.\n",
    "\n",
    "```\n",
    "example_text = 'Outlook is bright!'\n",
    "```\n",
    "\n",
    "expected output:\n",
    "```\n",
    "{'i': 2, 'o': 3, 'u': 1}\n",
    "\n",
    "or\n",
    "\n",
    "{'a': 0, 'e': 0, 'i': 2, 'o': 3, 'u': 1}\n",
    "```"
   ]
  },
  {
   "cell_type": "code",
   "execution_count": 4,
   "metadata": {
    "id": "yT_f_hhgg7Tk"
   },
   "outputs": [
    {
     "data": {
      "text/plain": [
       "{'o': 3, 'u': 1, 'i': 2}"
      ]
     },
     "execution_count": 4,
     "metadata": {},
     "output_type": "execute_result"
    }
   ],
   "source": [
    "example_text = 'Outlook is bright!'\n",
    "vowels = ['a', 'e', 'i', 'o', 'u']\n",
    "dict = {}\n",
    "for c in example_text.lower():\n",
    "    if c in vowels:\n",
    "        if c in dict.keys():\n",
    "            dict[c] += 1\n",
    "        else: dict[c] = 1\n",
    "dict\n",
    "# 2a) Your code here"
   ]
  },
  {
   "cell_type": "markdown",
   "metadata": {
    "id": "j5v3mwmVg7Tk"
   },
   "source": [
    "b) Below is a data frame of customers that have different cooling systems. Your data science team lead wants the column ```cooling_system``` to be labeled with the integer numbers 1-4 instead of the text as shown below:\n",
    "\n",
    "- 1 = Air Conditioning / Air Con / AC\n",
    "- 2 = Heat Pump / HP\n",
    "- 3 = Evaporative Cooler / EvapCooler / EC\n",
    "- 4 = Fan\n",
    "\n",
    "Make a new column called ```cooling_type``` that maps the text values to the new numeric values. Filter out / remove rows with the values that are not included in the mapping above. Print out/display this new data frame. Be sure to list any assumptions also!"
   ]
  },
  {
   "cell_type": "code",
   "execution_count": 5,
   "metadata": {
    "id": "61EFcCtbg7Tl"
   },
   "outputs": [
    {
     "data": {
      "text/html": [
       "<div>\n",
       "<style scoped>\n",
       "    .dataframe tbody tr th:only-of-type {\n",
       "        vertical-align: middle;\n",
       "    }\n",
       "\n",
       "    .dataframe tbody tr th {\n",
       "        vertical-align: top;\n",
       "    }\n",
       "\n",
       "    .dataframe thead th {\n",
       "        text-align: right;\n",
       "    }\n",
       "</style>\n",
       "<table border=\"1\" class=\"dataframe\">\n",
       "  <thead>\n",
       "    <tr style=\"text-align: right;\">\n",
       "      <th></th>\n",
       "      <th>Cust_Number</th>\n",
       "      <th>Cooling_System</th>\n",
       "    </tr>\n",
       "  </thead>\n",
       "  <tbody>\n",
       "    <tr>\n",
       "      <th>0</th>\n",
       "      <td>101</td>\n",
       "      <td>AC</td>\n",
       "    </tr>\n",
       "    <tr>\n",
       "      <th>1</th>\n",
       "      <td>102</td>\n",
       "      <td>Heat Pump</td>\n",
       "    </tr>\n",
       "    <tr>\n",
       "      <th>2</th>\n",
       "      <td>103</td>\n",
       "      <td>Air Con</td>\n",
       "    </tr>\n",
       "    <tr>\n",
       "      <th>3</th>\n",
       "      <td>104</td>\n",
       "      <td>Air Conditioning</td>\n",
       "    </tr>\n",
       "    <tr>\n",
       "      <th>4</th>\n",
       "      <td>105</td>\n",
       "      <td>Fan</td>\n",
       "    </tr>\n",
       "    <tr>\n",
       "      <th>5</th>\n",
       "      <td>106</td>\n",
       "      <td>None</td>\n",
       "    </tr>\n",
       "    <tr>\n",
       "      <th>6</th>\n",
       "      <td>107</td>\n",
       "      <td>EvapCooler</td>\n",
       "    </tr>\n",
       "    <tr>\n",
       "      <th>7</th>\n",
       "      <td>108</td>\n",
       "      <td>None</td>\n",
       "    </tr>\n",
       "    <tr>\n",
       "      <th>8</th>\n",
       "      <td>109</td>\n",
       "      <td>EC</td>\n",
       "    </tr>\n",
       "    <tr>\n",
       "      <th>9</th>\n",
       "      <td>110</td>\n",
       "      <td>Evaporative Cooler</td>\n",
       "    </tr>\n",
       "    <tr>\n",
       "      <th>10</th>\n",
       "      <td>111</td>\n",
       "      <td>geothermal</td>\n",
       "    </tr>\n",
       "    <tr>\n",
       "      <th>11</th>\n",
       "      <td>112</td>\n",
       "      <td>8</td>\n",
       "    </tr>\n",
       "    <tr>\n",
       "      <th>12</th>\n",
       "      <td>113</td>\n",
       "      <td>Air Con</td>\n",
       "    </tr>\n",
       "  </tbody>\n",
       "</table>\n",
       "</div>"
      ],
      "text/plain": [
       "    Cust_Number      Cooling_System\n",
       "0           101                  AC\n",
       "1           102           Heat Pump\n",
       "2           103             Air Con\n",
       "3           104    Air Conditioning\n",
       "4           105                 Fan\n",
       "5           106                None\n",
       "6           107          EvapCooler\n",
       "7           108                None\n",
       "8           109                  EC\n",
       "9           110  Evaporative Cooler\n",
       "10          111          geothermal\n",
       "11          112                   8\n",
       "12          113             Air Con"
      ]
     },
     "execution_count": 5,
     "metadata": {},
     "output_type": "execute_result"
    }
   ],
   "source": [
    "import pandas\n",
    "\n",
    "# creating a data frame from scratch - list of lists\n",
    "\n",
    "data = [ \n",
    "         [101, 'AC'], \n",
    "         [102, 'Heat Pump'], \n",
    "         [103, 'Air Con'], \n",
    "         [104, 'Air Conditioning'],\n",
    "         [105, 'Fan'],\n",
    "         [106, 'None'],\n",
    "         [107, 'EvapCooler'],\n",
    "         [108, None],\n",
    "         [109, 'EC'],\n",
    "         [110, 'Evaporative Cooler'],\n",
    "         [111, 'geothermal'],\n",
    "         [112, 8],\n",
    "         [113, 'Air Con']\n",
    "       ]\n",
    "\n",
    "# create a data frame with column names - list of lists\n",
    "\n",
    "col_names = ['Cust_Number', 'Cooling_System']\n",
    "\n",
    "df = pandas.DataFrame(data, columns=col_names)\n",
    "df"
   ]
  },
  {
   "cell_type": "code",
   "execution_count": 6,
   "metadata": {
    "id": "E3IH8MHwg7Tl"
   },
   "outputs": [
    {
     "data": {
      "text/html": [
       "<div>\n",
       "<style scoped>\n",
       "    .dataframe tbody tr th:only-of-type {\n",
       "        vertical-align: middle;\n",
       "    }\n",
       "\n",
       "    .dataframe tbody tr th {\n",
       "        vertical-align: top;\n",
       "    }\n",
       "\n",
       "    .dataframe thead th {\n",
       "        text-align: right;\n",
       "    }\n",
       "</style>\n",
       "<table border=\"1\" class=\"dataframe\">\n",
       "  <thead>\n",
       "    <tr style=\"text-align: right;\">\n",
       "      <th></th>\n",
       "      <th>Cust_Number</th>\n",
       "      <th>Cooling_System</th>\n",
       "      <th>cooling_type</th>\n",
       "    </tr>\n",
       "  </thead>\n",
       "  <tbody>\n",
       "    <tr>\n",
       "      <th>0</th>\n",
       "      <td>101</td>\n",
       "      <td>AC</td>\n",
       "      <td>1.0</td>\n",
       "    </tr>\n",
       "    <tr>\n",
       "      <th>1</th>\n",
       "      <td>102</td>\n",
       "      <td>Heat Pump</td>\n",
       "      <td>2.0</td>\n",
       "    </tr>\n",
       "    <tr>\n",
       "      <th>2</th>\n",
       "      <td>103</td>\n",
       "      <td>Air Con</td>\n",
       "      <td>1.0</td>\n",
       "    </tr>\n",
       "    <tr>\n",
       "      <th>3</th>\n",
       "      <td>104</td>\n",
       "      <td>Air Conditioning</td>\n",
       "      <td>1.0</td>\n",
       "    </tr>\n",
       "    <tr>\n",
       "      <th>4</th>\n",
       "      <td>105</td>\n",
       "      <td>Fan</td>\n",
       "      <td>4.0</td>\n",
       "    </tr>\n",
       "    <tr>\n",
       "      <th>5</th>\n",
       "      <td>106</td>\n",
       "      <td>None</td>\n",
       "      <td>NaN</td>\n",
       "    </tr>\n",
       "    <tr>\n",
       "      <th>6</th>\n",
       "      <td>107</td>\n",
       "      <td>EvapCooler</td>\n",
       "      <td>2.0</td>\n",
       "    </tr>\n",
       "    <tr>\n",
       "      <th>7</th>\n",
       "      <td>108</td>\n",
       "      <td>None</td>\n",
       "      <td>NaN</td>\n",
       "    </tr>\n",
       "    <tr>\n",
       "      <th>8</th>\n",
       "      <td>109</td>\n",
       "      <td>EC</td>\n",
       "      <td>2.0</td>\n",
       "    </tr>\n",
       "    <tr>\n",
       "      <th>9</th>\n",
       "      <td>110</td>\n",
       "      <td>Evaporative Cooler</td>\n",
       "      <td>2.0</td>\n",
       "    </tr>\n",
       "    <tr>\n",
       "      <th>10</th>\n",
       "      <td>111</td>\n",
       "      <td>geothermal</td>\n",
       "      <td>NaN</td>\n",
       "    </tr>\n",
       "    <tr>\n",
       "      <th>11</th>\n",
       "      <td>112</td>\n",
       "      <td>8</td>\n",
       "      <td>NaN</td>\n",
       "    </tr>\n",
       "    <tr>\n",
       "      <th>12</th>\n",
       "      <td>113</td>\n",
       "      <td>Air Con</td>\n",
       "      <td>1.0</td>\n",
       "    </tr>\n",
       "  </tbody>\n",
       "</table>\n",
       "</div>"
      ],
      "text/plain": [
       "    Cust_Number      Cooling_System  cooling_type\n",
       "0           101                  AC           1.0\n",
       "1           102           Heat Pump           2.0\n",
       "2           103             Air Con           1.0\n",
       "3           104    Air Conditioning           1.0\n",
       "4           105                 Fan           4.0\n",
       "5           106                None           NaN\n",
       "6           107          EvapCooler           2.0\n",
       "7           108                None           NaN\n",
       "8           109                  EC           2.0\n",
       "9           110  Evaporative Cooler           2.0\n",
       "10          111          geothermal           NaN\n",
       "11          112                   8           NaN\n",
       "12          113             Air Con           1.0"
      ]
     },
     "execution_count": 6,
     "metadata": {},
     "output_type": "execute_result"
    }
   ],
   "source": [
    "# 2b)\n",
    "def map_cooling_type(system):\n",
    "    if system == \"Air Conditioning\" or system == \"Air Con\" or system == \"AC\":\n",
    "        return 1\n",
    "    elif system == \"Heat Pump\" or system == \"HP\":\n",
    "        return 2\n",
    "    elif system == \"Evaporative Cooler\" or system == \"EvapCooler\" or system == \"EC\":\n",
    "        return 2\n",
    "    elif system == \"Fan\":\n",
    "        return 4\n",
    "df['cooling_type'] = df['Cooling_System'].map(map_cooling_type)\n",
    "df"
   ]
  },
  {
   "cell_type": "markdown",
   "metadata": {
    "id": "LzguKp3Rg7Tm"
   },
   "source": [
    "c) From the dataframe below, use groupby in Pandas to show how many total delegates were obtained grouped by state. Print this out."
   ]
  },
  {
   "cell_type": "code",
   "execution_count": 7,
   "metadata": {
    "id": "SBKSw6hsg7Tm"
   },
   "outputs": [
    {
     "data": {
      "text/html": [
       "<div>\n",
       "<style scoped>\n",
       "    .dataframe tbody tr th:only-of-type {\n",
       "        vertical-align: middle;\n",
       "    }\n",
       "\n",
       "    .dataframe tbody tr th {\n",
       "        vertical-align: top;\n",
       "    }\n",
       "\n",
       "    .dataframe thead th {\n",
       "        text-align: right;\n",
       "    }\n",
       "</style>\n",
       "<table border=\"1\" class=\"dataframe\">\n",
       "  <thead>\n",
       "    <tr style=\"text-align: right;\">\n",
       "      <th></th>\n",
       "      <th>name</th>\n",
       "      <th>delegates</th>\n",
       "      <th>color</th>\n",
       "      <th>state</th>\n",
       "    </tr>\n",
       "  </thead>\n",
       "  <tbody>\n",
       "    <tr>\n",
       "      <th>0</th>\n",
       "      <td>marco</td>\n",
       "      <td>165</td>\n",
       "      <td>blue</td>\n",
       "      <td>FL</td>\n",
       "    </tr>\n",
       "    <tr>\n",
       "      <th>1</th>\n",
       "      <td>jeb</td>\n",
       "      <td>35</td>\n",
       "      <td>red</td>\n",
       "      <td>FL</td>\n",
       "    </tr>\n",
       "    <tr>\n",
       "      <th>2</th>\n",
       "      <td>chris</td>\n",
       "      <td>0</td>\n",
       "      <td>white</td>\n",
       "      <td>NY</td>\n",
       "    </tr>\n",
       "    <tr>\n",
       "      <th>3</th>\n",
       "      <td>donald</td>\n",
       "      <td>1543</td>\n",
       "      <td>white</td>\n",
       "      <td>NY</td>\n",
       "    </tr>\n",
       "    <tr>\n",
       "      <th>4</th>\n",
       "      <td>ted</td>\n",
       "      <td>559</td>\n",
       "      <td>blue</td>\n",
       "      <td>NY</td>\n",
       "    </tr>\n",
       "    <tr>\n",
       "      <th>5</th>\n",
       "      <td>john</td>\n",
       "      <td>161</td>\n",
       "      <td>red</td>\n",
       "      <td>OH</td>\n",
       "    </tr>\n",
       "  </tbody>\n",
       "</table>\n",
       "</div>"
      ],
      "text/plain": [
       "     name  delegates  color state\n",
       "0   marco        165   blue    FL\n",
       "1     jeb         35    red    FL\n",
       "2   chris          0  white    NY\n",
       "3  donald       1543  white    NY\n",
       "4     ted        559   blue    NY\n",
       "5    john        161    red    OH"
      ]
     },
     "execution_count": 7,
     "metadata": {},
     "output_type": "execute_result"
    }
   ],
   "source": [
    "import pandas\n",
    "\n",
    "# creating a data frame from scratch - list of lists\n",
    "\n",
    "data = [ ['marco', 165, 'blue', 'FL'], \n",
    "         ['jeb', 35, 'red', 'FL'], \n",
    "         ['chris', 0, 'white', 'NY'], \n",
    "         ['donald', 1543, 'white', 'NY'],\n",
    "         ['ted', 559, 'blue', 'NY'],\n",
    "         ['john', 161, 'red', 'OH']\n",
    "       ]\n",
    "\n",
    "# create a data frame with column names - list of lists\n",
    "\n",
    "col_names = ['name', 'delegates', 'color', 'state']\n",
    "df = pandas.DataFrame(data, columns=col_names)\n",
    "df"
   ]
  },
  {
   "cell_type": "code",
   "execution_count": 8,
   "metadata": {
    "id": "KNNZmJGUg7To"
   },
   "outputs": [
    {
     "data": {
      "text/plain": [
       "state\n",
       "FL     200\n",
       "NY    2102\n",
       "OH     161\n",
       "Name: delegates, dtype: int64"
      ]
     },
     "execution_count": 8,
     "metadata": {},
     "output_type": "execute_result"
    }
   ],
   "source": [
    "# 2c) Your code here\n",
    "df.groupby(['state'])['delegates'].sum()"
   ]
  },
  {
   "cell_type": "markdown",
   "metadata": {
    "id": "j0vXNb_Yg7Tp"
   },
   "source": [
    "## 3: Bitcoin coding problem (20 points):"
   ]
  },
  {
   "cell_type": "markdown",
   "metadata": {
    "id": "PWU5dtSEg7Tp"
   },
   "source": [
    "#### Bitcoin\n",
    "\n",
    "Consider a record of a one-time investment in bitcoin with value of that investment tracked monthly, provided as an (ordered) tuple of dictionaries, where each dictionary comprises one key for the month and corresponding one value for the value of the investment as of that date. (For example 31 Jan 2018 was $1200 as shown in `data` below).\n",
    "\n",
    "The initial investment is made on 1 Jan 2018 and was for $1000 (labelled 'Initial' in the `data` below).\n",
    "\n",
    "Fill in the Python function (named `bitcoin_invest` below) to take such a record of any length (the below `data` is only a sample but the full data will be in the same format), and return a dataframe comprising a row for each month with columns for date, balance, and return. **Print out/display this dataframe.**\n",
    "\n",
    "Also, visualize the record as two vertically arranged plots (there are a few ways to do this, keep it consistent over both plots). \n",
    "- The top plot should show a line plot of balance vs. month \n",
    "- The bottom plot should show a bar plot of return vs. month, with a black horizontal line at return=0, and bars color-coded such that positive returns are green and negative returns are red.  \n",
    "- The two plots' horizontal axes should align. Demonstrate that your code works by applying it to `data`.\n",
    "\n",
    "Some definitions: <br>\n",
    "- The gain for each period is the end balance minus the start balance. \n",
    "- The growth factor for each period is the end balance divided by the start balance.  \n",
    "- The return for each period is the growth factor minus 1."
   ]
  },
  {
   "cell_type": "code",
   "execution_count": 9,
   "metadata": {
    "id": "nNyReUHXg7Tp"
   },
   "outputs": [
    {
     "data": {
      "text/plain": [
       "({'Initial': 1000},\n",
       " {'Jan 2018': 1200},\n",
       " {'Feb 2018': 1400},\n",
       " {'Mar 2018': 700},\n",
       " {'Apr 2018': 800},\n",
       " {'May 2018': 500})"
      ]
     },
     "execution_count": 9,
     "metadata": {},
     "output_type": "execute_result"
    }
   ],
   "source": [
    "data = ({\"Initial\": 1000}, {\"Jan 2018\":1200},{\"Feb 2018\":1400},{\"Mar 2018\":700},{\"Apr 2018\":800},{\"May 2018\":500})\n",
    "data"
   ]
  },
  {
   "cell_type": "code",
   "execution_count": 10,
   "metadata": {
    "id": "tqPVdbgkg7Tp"
   },
   "outputs": [
    {
     "name": "stdout",
     "output_type": "stream",
     "text": [
      "       date  balance    return\n",
      "0   Initial     1000  0.000000\n",
      "1  Jan 2018     1200  0.200000\n",
      "2  Feb 2018     1400  0.166667\n",
      "3  Mar 2018      700 -0.500000\n",
      "4  Apr 2018      800  0.142857\n",
      "5  May 2018      500 -0.375000\n"
     ]
    },
    {
     "data": {
      "text/plain": [
       "<matplotlib.lines.Line2D at 0x7f02cef00d90>"
      ]
     },
     "execution_count": 10,
     "metadata": {},
     "output_type": "execute_result"
    },
    {
     "data": {
      "image/png": "[encoded data removed]",
      "text/plain": [
       "<Figure size 640x480 with 1 Axes>"
      ]
     },
     "metadata": {},
     "output_type": "display_data"
    },
    {
     "data": {
      "image/png": "[encoded data removed]",
      "text/plain": [
       "<Figure size 640x480 with 1 Axes>"
      ]
     },
     "metadata": {},
     "output_type": "display_data"
    }
   ],
   "source": [
    "# 3) Your code here\n",
    "\n",
    "def bitcoin_invest(monthly_data):\n",
    "    # return a dataframe comprising a row for each month with columns for date, balance, and return\n",
    "    df = []\n",
    "    last_balance = 0\n",
    "    for data in monthly_data:\n",
    "        for date, investment in data.items():\n",
    "\n",
    "            if last_balance != 0:\n",
    "                df.append([date, investment, investment/last_balance-1])\n",
    "            else:\n",
    "                df.append([date, investment, 0])\n",
    "            last_balance = investment\n",
    "    pd = pandas.DataFrame(df, columns = ['date', 'balance', 'return'])\n",
    "    print(pd)\n",
    "    return pd\n",
    "df = bitcoin_invest(data)\n",
    "df.plot(x = 'date', y = 'balance')\n",
    "\n",
    "import matplotlib.pyplot as plt\n",
    "colors = ['r' if ret < 0 else 'g' for ret in df['return']]\n",
    "df.plot(x = 'date', y = 'return', color=colors, kind='bar')\n",
    "plt.axhline(y=0, color='black')"
   ]
  },
  {
   "cell_type": "markdown",
   "metadata": {
    "id": "qGnnkRF9g7Tq"
   },
   "source": [
    "## 4: Clinical disease data (40 pts)\n",
    "\n",
    "Your boss comes to you Monday morning and says “I figured out our next step; we are going to pivot from an online craft store and become a data center for genetic disease information! I found **ClinVar** which is a repository that contains expert curated data, and it is free for the taking. This is a gold mine! Look at the file and tell me what gene and mutation combinations are classified as dangerous.”\n",
    "\n",
    "Make sure that you only give your boss the dangerous mutations and include:\n",
    "\n",
    "1) Gene name\n",
    "\n",
    "2) Mutation ID number\n",
    "\n",
    "3) Mutation Position (chromosome & position)\n",
    "\n",
    "4) Mutation value (reference & alternate bases)\n",
    "\n",
    "5) Clinical significance (CLNSIG)\n",
    "\n",
    "6) Disease that is implicated\n",
    "\n",
    "**Requirements**\n",
    "\n",
    "1) The deliverables are the final result as a dataframe with a short discussion of any specifics. (that is, what data you would present to your boss with the explanation of your results)\n",
    "\n",
    "2) Limit your output to the first 100 harmful mutations and tell your boss how many total harmful mutations were found in the file\n",
    "\n",
    "3) Use the instructor-modified \"clinvar_final.txt\" at this link: https://drive.google.com/file/d/1Zps0YssoJbZHrn6iLte2RDLlgruhAX1s/view?usp=sharing This file was modified to be not exactly the same as 'standard' .vcf file to test your data parsing skills. **This is a large file so do NOT upload it into your github repo!**\n",
    "\n",
    "4) Replace missing values in the dataframe with: 'Not_Given'. Print or display this (including the Not_Given count) for the column `CLNSIG` by using pandas value_counts() function (https://pandas.pydata.org/docs/reference/api/pandas.Series.value_counts.html).\n",
    "\n",
    "5) State in your answer how you define harmful mutations\n",
    "\n",
    "**6) Do your best on getting to above requirements and submit whatever you do before the deadline. If your work is incomplete be sure to describe the blockers that got in your way and how you might get past them (if given more time).**\n",
    "\n",
    "7) You can use as many code blocks as you need. Please clean-up your code and make it readable for the graders!\n",
    "\n",
    "**Hints** \n",
    "* We do not expect you to have any medical knowledge to solve this problem; look at the data, read the documentation provided, and write down your assumptions!\n",
    "\n",
    "* Correct pseudocode will give you partial credit so start with that. \n",
    "\n",
    "* Map out which fields you want to extract: Are they in the same place every time? What strategy will you use to robustly extract and filter your data of interest? How do you plan to handle missing data?\n",
    "\n",
    "* A good way to start is to print out each line, then practice parsing them to see if you can recover the fields of interest\n",
    "\n",
    "* A starting solution for parsing .vcfs can be found here: https://gist.github.com/dceoy/99d976a2c01e7f0ba1c813778f9db744 This solution does **NOT** work due to the changes we've made but can be modified to work. As with any solution that needs modifications, it may take less time to make your own solution!\n",
    "\n",
    "* Filter out junk and lines with no mutation data. Just focus on the data your need to deliver to your boss. \n",
    "\n",
    "* Pandas and NumPy parsers correctly recognize the end of each line in in the ClinVar file.\n",
    "\n",
    "* The unit of observation of this dataset is one row per mutation.\n",
    "\n",
    "* This is similar to a task that one of us tackled at work. You can answer the question with the information provided below or using the (partial) data dictionary file at this link: https://drive.google.com/file/d/1lx9yHdlcqmU_OlHiTUXKC_LQDqYBypH_/view?usp=sharing. Our goal is to see that you can put together a sensible plan, implement a solid parsing strategy, and document and justify the decisions that you made."
   ]
  },
  {
   "cell_type": "markdown",
   "metadata": {
    "collapsed": true,
    "id": "vxoh6uLEg7Tr"
   },
   "source": [
    "### VCF file description (Summarized from version 4.1)\n",
    "\n",
    "```\n",
    "* The VCF specification:\n",
    "\n",
    "VCF is a text file format which contains meta-information lines, a header line, and then data lines each containing information about a position in the genome. The format also can contain genotype information on samples for each position.\n",
    "\n",
    "* Fixed fields:\n",
    "\n",
    "There are 8 fixed fields per record. All data lines are **tab-delimited**. In all cases, missing values are specified with a dot (‘.’). \n",
    "\n",
    "1. CHROM - chromosome number\n",
    "2. POS - position DNA nuceleotide count (bases) along the chromosome\n",
    "3. ID - The unique identifier for each mutation\n",
    "4. REF - reference base(s)\n",
    "5. ALT - alternate base(s)\n",
    "6. FILTER - filter status\n",
    "7. QUAL - quality\n",
    "8. INFO - a semicolon-separated series of keys with values in the format: <key>=<data>\n",
    "\n",
    "```\n",
    "### Applicable INFO field specifications\n",
    "\n",
    "```\n",
    "GENEINFO = <Gene name>\n",
    "CLNSIG =  <Clinical significance>\n",
    "CLNDN = <Disease name>\n",
    "```\n",
    "\n",
    "### Sample ClinVar data (vcf file format - not exactly the same as the file to download!)\n",
    "\n",
    "```\n",
    "##fileformat=VCFv4.1\n",
    "##fileDate=2019-03-19\n",
    "##source=ClinVar\n",
    "##reference=GRCh38\t\t\t\t\t\t\t\n",
    "#CHROM\tPOS\tID\tREF\tALT\tQUAL\tFILTER\tINFO\n",
    "1\t949523\trs786201005\tC\tT\t.\t.\tGENEINFO=ISG15;CLNSIG=5\n",
    "1\t949696\trs672601345\tC\tCG\t.\t.\tGENEINFO=ISG15;CLNSIG=5;CLNDN=Cancer\n",
    "1\t949739\trs672601312\tG\tT\t.\t.\tGENEINFO=ISG15;CLNDBN=Cancer\n",
    "1\t955597\trs115173026\tG\tT\t.\t.\tGENEINFO=AGRN;CLNSIG=2; CLNDN=Cancer\n",
    "1\t955619\trs201073369\tG\tC\t.\t.\tGENEINFO=AGG;CLNDN=Heart_dis \n",
    "1\t957640\trs6657048\tC\tT\t.\t.\tGENEINFO=AGG;CLNSIG=3;CLNDN=Heart_dis \n",
    "1\t976059\trs544749044\tC\tT\t.\t.\tGENEINFO=AGG;CLNSIG=0;CLNDN=Heart_dis \n",
    "```"
   ]
  },
  {
   "cell_type": "code",
   "execution_count": 11,
   "metadata": {
    "scrolled": true
   },
   "outputs": [],
   "source": [
    "import pandas as pd\n",
    "\n",
    "df = pd.read_csv('clinvar_final.txt', comment='#', sep='\\t')\n",
    "\n",
    "df['GENEINFO'] = df['INFO'].str.extract('GENEINFO=([^;]*)')\n",
    "df['CLNSIG'] = df['INFO'].str.extract('CLNSIG=([^;]*)')\n",
    "df['CLNDN'] = df['INFO'].str.extract('CLNDN=([^;]*)')"
   ]
  },
  {
   "cell_type": "code",
   "execution_count": 12,
   "metadata": {},
   "outputs": [
    {
     "name": "stdout",
     "output_type": "stream",
     "text": [
      "(102321, 8)\n"
     ]
    },
    {
     "data": {
      "text/plain": [
       "TTN:7273|TTN-AS1:100506866            6273\n",
       "TTN:7273                              4775\n",
       "MSH6:2956                             3442\n",
       "MSH2:4436                             2806\n",
       "MLH1:4292                             2195\n",
       "                                      ... \n",
       "SGO2:151246                              1\n",
       "S100A3:6274|LOC101928034:101928034       1\n",
       "SNAPIN:23557                             1\n",
       "INTS3:65123                              1\n",
       "CYP1B1:1545|LOC110599580:110599580       1\n",
       "Name: GENEINFO, Length: 1476, dtype: int64"
      ]
     },
     "execution_count": 12,
     "metadata": {},
     "output_type": "execute_result"
    }
   ],
   "source": [
    "\"\"\"\n",
    "1) Gene name (GENEINFO)\n",
    "\n",
    "2) Mutation ID number (ID)\n",
    "\n",
    "3) Mutation Position (chromosome & position) (CHROM & POS)\n",
    "\n",
    "4) Mutation value (reference & alternate bases) (REF & ALT)\n",
    "\n",
    "5) Clinical significance (CLNSIG)\n",
    "\n",
    "6) Disease that is implicated (CLNDN)\n",
    "\n",
    "\"\"\"\n",
    "cleaned = df[['GENEINFO', 'ID', 'CHROM', 'POS', 'REF', 'ALT', 'CLNSIG', 'CLNDN']]\n",
    "cleaned.fillna(\"Not_Given\")\n",
    "print(cleaned.shape)\n",
    "cleaned = cleaned[cleaned['ID'] != 'Not_Given']\n",
    "cleaned['GENEINFO'].value_counts()"
   ]
  },
  {
   "cell_type": "code",
   "execution_count": 13,
   "metadata": {},
   "outputs": [
    {
     "name": "stderr",
     "output_type": "stream",
     "text": [
      "/opt/conda/lib/python3.9/site-packages/pandas/core/indexing.py:1817: SettingWithCopyWarning: \n",
      "A value is trying to be set on a copy of a slice from a DataFrame.\n",
      "Try using .loc[row_indexer,col_indexer] = value instead\n",
      "\n",
      "See the caveats in the documentation: https://pandas.pydata.org/pandas-docs/stable/user_guide/indexing.html#returning-a-view-versus-a-copy\n",
      "  self._setitem_single_column(loc, value, pi)\n"
     ]
    },
    {
     "data": {
      "text/html": [
       "<div>\n",
       "<style scoped>\n",
       "    .dataframe tbody tr th:only-of-type {\n",
       "        vertical-align: middle;\n",
       "    }\n",
       "\n",
       "    .dataframe tbody tr th {\n",
       "        vertical-align: top;\n",
       "    }\n",
       "\n",
       "    .dataframe thead th {\n",
       "        text-align: right;\n",
       "    }\n",
       "</style>\n",
       "<table border=\"1\" class=\"dataframe\">\n",
       "  <thead>\n",
       "    <tr style=\"text-align: right;\">\n",
       "      <th></th>\n",
       "      <th>GENEINFO</th>\n",
       "      <th>ID</th>\n",
       "      <th>CHROM</th>\n",
       "      <th>POS</th>\n",
       "      <th>REF</th>\n",
       "      <th>ALT</th>\n",
       "      <th>CLNSIG</th>\n",
       "      <th>CLNDN</th>\n",
       "    </tr>\n",
       "  </thead>\n",
       "  <tbody>\n",
       "    <tr>\n",
       "      <th>0</th>\n",
       "      <td>ISG15:9636</td>\n",
       "      <td>475283</td>\n",
       "      <td>1</td>\n",
       "      <td>1014O42</td>\n",
       "      <td>G</td>\n",
       "      <td>A</td>\n",
       "      <td>Benign</td>\n",
       "      <td>Immunodeficiency_38_with_basal_ganglia_calcifi...</td>\n",
       "    </tr>\n",
       "    <tr>\n",
       "      <th>2</th>\n",
       "      <td>ISG15:9636</td>\n",
       "      <td>183381</td>\n",
       "      <td>1</td>\n",
       "      <td>1014143</td>\n",
       "      <td>C</td>\n",
       "      <td>T</td>\n",
       "      <td>Pathogenic</td>\n",
       "      <td>Immunodeficiency_38_with_basal_ganglia_calcifi...</td>\n",
       "    </tr>\n",
       "    <tr>\n",
       "      <th>4</th>\n",
       "      <td>ISG15:9636</td>\n",
       "      <td>475278</td>\n",
       "      <td>1</td>\n",
       "      <td>1014217</td>\n",
       "      <td>C</td>\n",
       "      <td>T</td>\n",
       "      <td>Benign</td>\n",
       "      <td>Immunodeficiency_38_with_basal_ganglia_calcifi...</td>\n",
       "    </tr>\n",
       "    <tr>\n",
       "      <th>5</th>\n",
       "      <td>ISG15:9636</td>\n",
       "      <td>402986</td>\n",
       "      <td>1</td>\n",
       "      <td>1014228</td>\n",
       "      <td>G</td>\n",
       "      <td>A</td>\n",
       "      <td>Benign</td>\n",
       "      <td>not_specified</td>\n",
       "    </tr>\n",
       "    <tr>\n",
       "      <th>8</th>\n",
       "      <td>ISG15:9636</td>\n",
       "      <td>161455</td>\n",
       "      <td>1</td>\n",
       "      <td>1014316</td>\n",
       "      <td>C</td>\n",
       "      <td>CG</td>\n",
       "      <td>Pathogenic</td>\n",
       "      <td>Immunodeficiency_38_with_basal_ganglia_calcifi...</td>\n",
       "    </tr>\n",
       "    <tr>\n",
       "      <th>...</th>\n",
       "      <td>...</td>\n",
       "      <td>...</td>\n",
       "      <td>...</td>\n",
       "      <td>...</td>\n",
       "      <td>...</td>\n",
       "      <td>...</td>\n",
       "      <td>...</td>\n",
       "      <td>...</td>\n",
       "    </tr>\n",
       "    <tr>\n",
       "      <th>102311</th>\n",
       "      <td>PIK3CA:5290</td>\n",
       "      <td>45465</td>\n",
       "      <td>3</td>\n",
       "      <td>179210292</td>\n",
       "      <td>AAGATTTGCTGAACCC</td>\n",
       "      <td>A</td>\n",
       "      <td>Pathogenic</td>\n",
       "      <td>Non-small_cell_lung_cancer</td>\n",
       "    </tr>\n",
       "    <tr>\n",
       "      <th>102312</th>\n",
       "      <td>PIK3CA:5290</td>\n",
       "      <td>376472</td>\n",
       "      <td>3</td>\n",
       "      <td>179210293</td>\n",
       "      <td>A</td>\n",
       "      <td>T</td>\n",
       "      <td>Pathogenic</td>\n",
       "      <td>Hepatocellular_carcinoma|Transitional_cell_car...</td>\n",
       "    </tr>\n",
       "    <tr>\n",
       "      <th>102315</th>\n",
       "      <td>PIK3CA:5290</td>\n",
       "      <td>412645</td>\n",
       "      <td>3</td>\n",
       "      <td>179210475</td>\n",
       "      <td>G</td>\n",
       "      <td>C</td>\n",
       "      <td>Benign</td>\n",
       "      <td>Cowden_syndrome</td>\n",
       "    </tr>\n",
       "    <tr>\n",
       "      <th>102317</th>\n",
       "      <td>PIK3CA:5290</td>\n",
       "      <td>526648</td>\n",
       "      <td>3</td>\n",
       "      <td>179210511</td>\n",
       "      <td>T</td>\n",
       "      <td>C</td>\n",
       "      <td>Benign</td>\n",
       "      <td>Cowden_syndrome</td>\n",
       "    </tr>\n",
       "    <tr>\n",
       "      <th>102320</th>\n",
       "      <td>PIK3CA:5290</td>\n",
       "      <td>259958</td>\n",
       "      <td>3</td>\n",
       "      <td>179210538</td>\n",
       "      <td>A</td>\n",
       "      <td>T</td>\n",
       "      <td>Benign</td>\n",
       "      <td>Cowden_syndrome|not_specified</td>\n",
       "    </tr>\n",
       "  </tbody>\n",
       "</table>\n",
       "<p>46797 rows × 8 columns</p>\n",
       "</div>"
      ],
      "text/plain": [
       "           GENEINFO      ID  CHROM        POS               REF ALT  \\\n",
       "0        ISG15:9636  475283      1    1014O42                 G   A   \n",
       "2        ISG15:9636  183381      1    1014143                 C   T   \n",
       "4        ISG15:9636  475278      1    1014217                 C   T   \n",
       "5        ISG15:9636  402986      1    1014228                 G   A   \n",
       "8        ISG15:9636  161455      1    1014316                 C  CG   \n",
       "...             ...     ...    ...        ...               ...  ..   \n",
       "102311  PIK3CA:5290   45465      3  179210292  AAGATTTGCTGAACCC   A   \n",
       "102312  PIK3CA:5290  376472      3  179210293                 A   T   \n",
       "102315  PIK3CA:5290  412645      3  179210475                 G   C   \n",
       "102317  PIK3CA:5290  526648      3  179210511                 T   C   \n",
       "102320  PIK3CA:5290  259958      3  179210538                 A   T   \n",
       "\n",
       "            CLNSIG                                              CLNDN  \n",
       "0           Benign  Immunodeficiency_38_with_basal_ganglia_calcifi...  \n",
       "2       Pathogenic  Immunodeficiency_38_with_basal_ganglia_calcifi...  \n",
       "4           Benign  Immunodeficiency_38_with_basal_ganglia_calcifi...  \n",
       "5           Benign                                      not_specified  \n",
       "8       Pathogenic  Immunodeficiency_38_with_basal_ganglia_calcifi...  \n",
       "...            ...                                                ...  \n",
       "102311  Pathogenic                         Non-small_cell_lung_cancer  \n",
       "102312  Pathogenic  Hepatocellular_carcinoma|Transitional_cell_car...  \n",
       "102315      Benign                                    Cowden_syndrome  \n",
       "102317      Benign                                    Cowden_syndrome  \n",
       "102320      Benign                      Cowden_syndrome|not_specified  \n",
       "\n",
       "[46797 rows x 8 columns]"
      ]
     },
     "execution_count": 13,
     "metadata": {},
     "output_type": "execute_result"
    }
   ],
   "source": [
    "possible_significances = ['Likely_benign', 'Pathogenic', 'Likely_pathogenic', 'Benign',\n",
    "                         'Benign/Likely_benign', 'Pathogenic/Likely_pathogenic']\n",
    "simplified = cleaned[cleaned['CLNSIG'].isin(possible_significances)]\n",
    "simplified.loc[simplified['CLNSIG'] == \"Likely_benign\", 'CLNSIG'] = 'Benign'\n",
    "simplified.loc[simplified['CLNSIG'] == \"Benign/Likely_benign\", 'CLNSIG'] = 'Benign'\n",
    "simplified.loc[simplified['CLNSIG'] == \"Pathogenic/Likely_pathogenic\", 'CLNSIG'] = 'Pathogenic'\n",
    "simplified.loc[simplified['CLNSIG'] == \"Likely_pathogenic\", 'CLNSIG'] = 'Pathogenic'\n",
    "simplified"
   ]
  },
  {
   "cell_type": "code",
   "execution_count": 14,
   "metadata": {
    "scrolled": false
   },
   "outputs": [
    {
     "data": {
      "text/html": [
       "<div>\n",
       "<style scoped>\n",
       "    .dataframe tbody tr th:only-of-type {\n",
       "        vertical-align: middle;\n",
       "    }\n",
       "\n",
       "    .dataframe tbody tr th {\n",
       "        vertical-align: top;\n",
       "    }\n",
       "\n",
       "    .dataframe thead th {\n",
       "        text-align: right;\n",
       "    }\n",
       "</style>\n",
       "<table border=\"1\" class=\"dataframe\">\n",
       "  <thead>\n",
       "    <tr style=\"text-align: right;\">\n",
       "      <th></th>\n",
       "      <th></th>\n",
       "      <th>ID</th>\n",
       "      <th>CHROM</th>\n",
       "      <th>POS</th>\n",
       "      <th>REF</th>\n",
       "      <th>ALT</th>\n",
       "      <th>CLNDN</th>\n",
       "    </tr>\n",
       "    <tr>\n",
       "      <th>GENEINFO</th>\n",
       "      <th>CLNSIG</th>\n",
       "      <th></th>\n",
       "      <th></th>\n",
       "      <th></th>\n",
       "      <th></th>\n",
       "      <th></th>\n",
       "      <th></th>\n",
       "    </tr>\n",
       "  </thead>\n",
       "  <tbody>\n",
       "    <tr>\n",
       "      <th rowspan=\"2\" valign=\"top\">ABCA4:24</th>\n",
       "      <th>Benign</th>\n",
       "      <td>80</td>\n",
       "      <td>80</td>\n",
       "      <td>80</td>\n",
       "      <td>80</td>\n",
       "      <td>80</td>\n",
       "      <td>80</td>\n",
       "    </tr>\n",
       "    <tr>\n",
       "      <th>Pathogenic</th>\n",
       "      <td>237</td>\n",
       "      <td>237</td>\n",
       "      <td>237</td>\n",
       "      <td>237</td>\n",
       "      <td>237</td>\n",
       "      <td>158</td>\n",
       "    </tr>\n",
       "    <tr>\n",
       "      <th rowspan=\"2\" valign=\"top\">ABCB11:8647</th>\n",
       "      <th>Benign</th>\n",
       "      <td>50</td>\n",
       "      <td>50</td>\n",
       "      <td>50</td>\n",
       "      <td>50</td>\n",
       "      <td>50</td>\n",
       "      <td>50</td>\n",
       "    </tr>\n",
       "    <tr>\n",
       "      <th>Pathogenic</th>\n",
       "      <td>39</td>\n",
       "      <td>39</td>\n",
       "      <td>39</td>\n",
       "      <td>39</td>\n",
       "      <td>39</td>\n",
       "      <td>21</td>\n",
       "    </tr>\n",
       "    <tr>\n",
       "      <th>ACAD9:28976</th>\n",
       "      <th>Benign</th>\n",
       "      <td>31</td>\n",
       "      <td>31</td>\n",
       "      <td>31</td>\n",
       "      <td>31</td>\n",
       "      <td>31</td>\n",
       "      <td>31</td>\n",
       "    </tr>\n",
       "    <tr>\n",
       "      <th rowspan=\"2\" valign=\"top\">ACADM:34</th>\n",
       "      <th>Benign</th>\n",
       "      <td>37</td>\n",
       "      <td>37</td>\n",
       "      <td>37</td>\n",
       "      <td>37</td>\n",
       "      <td>37</td>\n",
       "      <td>37</td>\n",
       "    </tr>\n",
       "    <tr>\n",
       "      <th>Pathogenic</th>\n",
       "      <td>89</td>\n",
       "      <td>89</td>\n",
       "      <td>89</td>\n",
       "      <td>89</td>\n",
       "      <td>89</td>\n",
       "      <td>80</td>\n",
       "    </tr>\n",
       "    <tr>\n",
       "      <th rowspan=\"2\" valign=\"top\">ACTA1:58</th>\n",
       "      <th>Benign</th>\n",
       "      <td>30</td>\n",
       "      <td>30</td>\n",
       "      <td>30</td>\n",
       "      <td>30</td>\n",
       "      <td>30</td>\n",
       "      <td>30</td>\n",
       "    </tr>\n",
       "    <tr>\n",
       "      <th>Pathogenic</th>\n",
       "      <td>52</td>\n",
       "      <td>52</td>\n",
       "      <td>52</td>\n",
       "      <td>52</td>\n",
       "      <td>52</td>\n",
       "      <td>37</td>\n",
       "    </tr>\n",
       "    <tr>\n",
       "      <th>ACTN2:88</th>\n",
       "      <th>Benign</th>\n",
       "      <td>134</td>\n",
       "      <td>134</td>\n",
       "      <td>134</td>\n",
       "      <td>134</td>\n",
       "      <td>134</td>\n",
       "      <td>134</td>\n",
       "    </tr>\n",
       "    <tr>\n",
       "      <th>ACVR2B:93</th>\n",
       "      <th>Benign</th>\n",
       "      <td>71</td>\n",
       "      <td>71</td>\n",
       "      <td>71</td>\n",
       "      <td>71</td>\n",
       "      <td>71</td>\n",
       "      <td>71</td>\n",
       "    </tr>\n",
       "    <tr>\n",
       "      <th rowspan=\"2\" valign=\"top\">AGL:178</th>\n",
       "      <th>Benign</th>\n",
       "      <td>110</td>\n",
       "      <td>110</td>\n",
       "      <td>110</td>\n",
       "      <td>110</td>\n",
       "      <td>110</td>\n",
       "      <td>108</td>\n",
       "    </tr>\n",
       "    <tr>\n",
       "      <th>Pathogenic</th>\n",
       "      <td>138</td>\n",
       "      <td>138</td>\n",
       "      <td>138</td>\n",
       "      <td>138</td>\n",
       "      <td>138</td>\n",
       "      <td>129</td>\n",
       "    </tr>\n",
       "    <tr>\n",
       "      <th>AGRN:375790</th>\n",
       "      <th>Benign</th>\n",
       "      <td>172</td>\n",
       "      <td>172</td>\n",
       "      <td>172</td>\n",
       "      <td>172</td>\n",
       "      <td>172</td>\n",
       "      <td>171</td>\n",
       "    </tr>\n",
       "    <tr>\n",
       "      <th>AGXT:189</th>\n",
       "      <th>Pathogenic</th>\n",
       "      <td>144</td>\n",
       "      <td>144</td>\n",
       "      <td>144</td>\n",
       "      <td>144</td>\n",
       "      <td>144</td>\n",
       "      <td>144</td>\n",
       "    </tr>\n",
       "    <tr>\n",
       "      <th>AHDC1:27245</th>\n",
       "      <th>Pathogenic</th>\n",
       "      <td>42</td>\n",
       "      <td>42</td>\n",
       "      <td>42</td>\n",
       "      <td>42</td>\n",
       "      <td>42</td>\n",
       "      <td>14</td>\n",
       "    </tr>\n",
       "    <tr>\n",
       "      <th>ALK:238</th>\n",
       "      <th>Benign</th>\n",
       "      <td>238</td>\n",
       "      <td>238</td>\n",
       "      <td>238</td>\n",
       "      <td>238</td>\n",
       "      <td>238</td>\n",
       "      <td>238</td>\n",
       "    </tr>\n",
       "    <tr>\n",
       "      <th rowspan=\"2\" valign=\"top\">ALMS1:7840</th>\n",
       "      <th>Benign</th>\n",
       "      <td>345</td>\n",
       "      <td>345</td>\n",
       "      <td>345</td>\n",
       "      <td>345</td>\n",
       "      <td>345</td>\n",
       "      <td>345</td>\n",
       "    </tr>\n",
       "    <tr>\n",
       "      <th>Pathogenic</th>\n",
       "      <td>194</td>\n",
       "      <td>194</td>\n",
       "      <td>194</td>\n",
       "      <td>194</td>\n",
       "      <td>194</td>\n",
       "      <td>175</td>\n",
       "    </tr>\n",
       "    <tr>\n",
       "      <th>ALPL:249</th>\n",
       "      <th>Benign</th>\n",
       "      <td>38</td>\n",
       "      <td>38</td>\n",
       "      <td>38</td>\n",
       "      <td>38</td>\n",
       "      <td>38</td>\n",
       "      <td>37</td>\n",
       "    </tr>\n",
       "  </tbody>\n",
       "</table>\n",
       "</div>"
      ],
      "text/plain": [
       "                         ID  CHROM  POS  REF  ALT  CLNDN\n",
       "GENEINFO    CLNSIG                                      \n",
       "ABCA4:24    Benign       80     80   80   80   80     80\n",
       "            Pathogenic  237    237  237  237  237    158\n",
       "ABCB11:8647 Benign       50     50   50   50   50     50\n",
       "            Pathogenic   39     39   39   39   39     21\n",
       "ACAD9:28976 Benign       31     31   31   31   31     31\n",
       "ACADM:34    Benign       37     37   37   37   37     37\n",
       "            Pathogenic   89     89   89   89   89     80\n",
       "ACTA1:58    Benign       30     30   30   30   30     30\n",
       "            Pathogenic   52     52   52   52   52     37\n",
       "ACTN2:88    Benign      134    134  134  134  134    134\n",
       "ACVR2B:93   Benign       71     71   71   71   71     71\n",
       "AGL:178     Benign      110    110  110  110  110    108\n",
       "            Pathogenic  138    138  138  138  138    129\n",
       "AGRN:375790 Benign      172    172  172  172  172    171\n",
       "AGXT:189    Pathogenic  144    144  144  144  144    144\n",
       "AHDC1:27245 Pathogenic   42     42   42   42   42     14\n",
       "ALK:238     Benign      238    238  238  238  238    238\n",
       "ALMS1:7840  Benign      345    345  345  345  345    345\n",
       "            Pathogenic  194    194  194  194  194    175\n",
       "ALPL:249    Benign       38     38   38   38   38     37"
      ]
     },
     "execution_count": 14,
     "metadata": {},
     "output_type": "execute_result"
    }
   ],
   "source": [
    "clnsig = simplified.groupby(['GENEINFO', 'CLNSIG']).count()\n",
    "clnsig = clnsig[clnsig['ID'] >= 30]\n",
    "clnsig.head(20)"
   ]
  },
  {
   "cell_type": "code",
   "execution_count": 15,
   "metadata": {},
   "outputs": [
    {
     "data": {
      "text/html": [
       "<div>\n",
       "<style scoped>\n",
       "    .dataframe tbody tr th:only-of-type {\n",
       "        vertical-align: middle;\n",
       "    }\n",
       "\n",
       "    .dataframe tbody tr th {\n",
       "        vertical-align: top;\n",
       "    }\n",
       "\n",
       "    .dataframe thead th {\n",
       "        text-align: right;\n",
       "    }\n",
       "</style>\n",
       "<table border=\"1\" class=\"dataframe\">\n",
       "  <thead>\n",
       "    <tr style=\"text-align: right;\">\n",
       "      <th></th>\n",
       "      <th>GENEINFO</th>\n",
       "      <th>CLNSIG</th>\n",
       "      <th>Percentage</th>\n",
       "    </tr>\n",
       "  </thead>\n",
       "  <tbody>\n",
       "    <tr>\n",
       "      <th>0</th>\n",
       "      <td>AGXT:189</td>\n",
       "      <td>Pathogenic</td>\n",
       "      <td>100.000000</td>\n",
       "    </tr>\n",
       "    <tr>\n",
       "      <th>1</th>\n",
       "      <td>AHDC1:27245</td>\n",
       "      <td>Pathogenic</td>\n",
       "      <td>100.000000</td>\n",
       "    </tr>\n",
       "    <tr>\n",
       "      <th>2</th>\n",
       "      <td>AMT:275</td>\n",
       "      <td>Pathogenic</td>\n",
       "      <td>100.000000</td>\n",
       "    </tr>\n",
       "    <tr>\n",
       "      <th>3</th>\n",
       "      <td>BCHE:590</td>\n",
       "      <td>Pathogenic</td>\n",
       "      <td>100.000000</td>\n",
       "    </tr>\n",
       "    <tr>\n",
       "      <th>4</th>\n",
       "      <td>BTD:686</td>\n",
       "      <td>Pathogenic</td>\n",
       "      <td>100.000000</td>\n",
       "    </tr>\n",
       "    <tr>\n",
       "      <th>...</th>\n",
       "      <td>...</td>\n",
       "      <td>...</td>\n",
       "      <td>...</td>\n",
       "    </tr>\n",
       "    <tr>\n",
       "      <th>95</th>\n",
       "      <td>COL6A3:1293</td>\n",
       "      <td>Pathogenic</td>\n",
       "      <td>24.074074</td>\n",
       "    </tr>\n",
       "    <tr>\n",
       "      <th>96</th>\n",
       "      <td>ITPR1:3708</td>\n",
       "      <td>Pathogenic</td>\n",
       "      <td>23.484848</td>\n",
       "    </tr>\n",
       "    <tr>\n",
       "      <th>97</th>\n",
       "      <td>MBD5:55777</td>\n",
       "      <td>Pathogenic</td>\n",
       "      <td>23.188406</td>\n",
       "    </tr>\n",
       "    <tr>\n",
       "      <th>98</th>\n",
       "      <td>SCN9A:6335|SCN1A-AS1:101929680</td>\n",
       "      <td>Pathogenic</td>\n",
       "      <td>22.596154</td>\n",
       "    </tr>\n",
       "    <tr>\n",
       "      <th>99</th>\n",
       "      <td>BAP1:8314</td>\n",
       "      <td>Pathogenic</td>\n",
       "      <td>21.562500</td>\n",
       "    </tr>\n",
       "  </tbody>\n",
       "</table>\n",
       "<p>100 rows × 3 columns</p>\n",
       "</div>"
      ],
      "text/plain": [
       "                          GENEINFO      CLNSIG  Percentage\n",
       "0                         AGXT:189  Pathogenic  100.000000\n",
       "1                      AHDC1:27245  Pathogenic  100.000000\n",
       "2                          AMT:275  Pathogenic  100.000000\n",
       "3                         BCHE:590  Pathogenic  100.000000\n",
       "4                          BTD:686  Pathogenic  100.000000\n",
       "..                             ...         ...         ...\n",
       "95                     COL6A3:1293  Pathogenic   24.074074\n",
       "96                      ITPR1:3708  Pathogenic   23.484848\n",
       "97                      MBD5:55777  Pathogenic   23.188406\n",
       "98  SCN9A:6335|SCN1A-AS1:101929680  Pathogenic   22.596154\n",
       "99                       BAP1:8314  Pathogenic   21.562500\n",
       "\n",
       "[100 rows x 3 columns]"
      ]
     },
     "execution_count": 15,
     "metadata": {},
     "output_type": "execute_result"
    }
   ],
   "source": [
    "clnsig_props = clnsig.groupby(level=0).apply(lambda x: 100 * x / (x.sum())).sort_values(ascending=False, \n",
    "                                                                                        by=['CLNSIG','ID'])['ID']\n",
    "clnsig_props = clnsig_props.reset_index(level='CLNSIG').head(100).rename(columns = {'ID': \"Percentage\"})\n",
    "clnsig_props = clnsig_props[clnsig_props['CLNSIG'] == 'Pathogenic']\n",
    "clnsig_props = clnsig_props.reset_index(\"GENEINFO\")\n",
    "clnsig_props.head(100)"
   ]
  },
  {
   "cell_type": "code",
   "execution_count": 16,
   "metadata": {},
   "outputs": [
    {
     "name": "stdout",
     "output_type": "stream",
     "text": [
      "(19436, 8)\n"
     ]
    },
    {
     "data": {
      "text/html": [
       "<div>\n",
       "<style scoped>\n",
       "    .dataframe tbody tr th:only-of-type {\n",
       "        vertical-align: middle;\n",
       "    }\n",
       "\n",
       "    .dataframe tbody tr th {\n",
       "        vertical-align: top;\n",
       "    }\n",
       "\n",
       "    .dataframe thead th {\n",
       "        text-align: right;\n",
       "    }\n",
       "</style>\n",
       "<table border=\"1\" class=\"dataframe\">\n",
       "  <thead>\n",
       "    <tr style=\"text-align: right;\">\n",
       "      <th></th>\n",
       "      <th>GENEINFO</th>\n",
       "      <th>ID</th>\n",
       "      <th>CHROM</th>\n",
       "      <th>POS</th>\n",
       "      <th>REF</th>\n",
       "      <th>ALT</th>\n",
       "      <th>CLNSIG</th>\n",
       "      <th>CLNDN</th>\n",
       "    </tr>\n",
       "  </thead>\n",
       "  <tbody>\n",
       "    <tr>\n",
       "      <th>2</th>\n",
       "      <td>ISG15:9636</td>\n",
       "      <td>183381</td>\n",
       "      <td>1</td>\n",
       "      <td>1014143</td>\n",
       "      <td>C</td>\n",
       "      <td>T</td>\n",
       "      <td>Pathogenic</td>\n",
       "      <td>Immunodeficiency_38_with_basal_ganglia_calcifi...</td>\n",
       "    </tr>\n",
       "    <tr>\n",
       "      <th>8</th>\n",
       "      <td>ISG15:9636</td>\n",
       "      <td>161455</td>\n",
       "      <td>1</td>\n",
       "      <td>1014316</td>\n",
       "      <td>C</td>\n",
       "      <td>CG</td>\n",
       "      <td>Pathogenic</td>\n",
       "      <td>Immunodeficiency_38_with_basal_ganglia_calcifi...</td>\n",
       "    </tr>\n",
       "    <tr>\n",
       "      <th>9</th>\n",
       "      <td>ISG15:9636</td>\n",
       "      <td>161454</td>\n",
       "      <td>1</td>\n",
       "      <td>1014359</td>\n",
       "      <td>G</td>\n",
       "      <td>T</td>\n",
       "      <td>Pathogenic</td>\n",
       "      <td>Immunodeficiency_38_with_basal_ganglia_calcifi...</td>\n",
       "    </tr>\n",
       "    <tr>\n",
       "      <th>24</th>\n",
       "      <td>AGRN:375790</td>\n",
       "      <td>243036</td>\n",
       "      <td>1</td>\n",
       "      <td>1022225</td>\n",
       "      <td>G</td>\n",
       "      <td>A</td>\n",
       "      <td>Pathogenic</td>\n",
       "      <td>Congenital_myasthenic_syndrome</td>\n",
       "    </tr>\n",
       "    <tr>\n",
       "      <th>26</th>\n",
       "      <td>AGRN:375790</td>\n",
       "      <td>243037</td>\n",
       "      <td>1</td>\n",
       "      <td>1022313</td>\n",
       "      <td>A</td>\n",
       "      <td>T</td>\n",
       "      <td>Pathogenic</td>\n",
       "      <td>Congenital_myasthenic_syndrome</td>\n",
       "    </tr>\n",
       "    <tr>\n",
       "      <th>...</th>\n",
       "      <td>...</td>\n",
       "      <td>...</td>\n",
       "      <td>...</td>\n",
       "      <td>...</td>\n",
       "      <td>...</td>\n",
       "      <td>...</td>\n",
       "      <td>...</td>\n",
       "      <td>...</td>\n",
       "    </tr>\n",
       "    <tr>\n",
       "      <th>852</th>\n",
       "      <td>PEX10:5192</td>\n",
       "      <td>197886</td>\n",
       "      <td>1</td>\n",
       "      <td>2406528</td>\n",
       "      <td>G</td>\n",
       "      <td>GC</td>\n",
       "      <td>Pathogenic</td>\n",
       "      <td>NaN</td>\n",
       "    </tr>\n",
       "    <tr>\n",
       "      <th>857</th>\n",
       "      <td>PEX10:5192</td>\n",
       "      <td>282334</td>\n",
       "      <td>1</td>\n",
       "      <td>2406561</td>\n",
       "      <td>C</td>\n",
       "      <td>A</td>\n",
       "      <td>Pathogenic</td>\n",
       "      <td>NaN</td>\n",
       "    </tr>\n",
       "    <tr>\n",
       "      <th>862</th>\n",
       "      <td>PEX10:5192</td>\n",
       "      <td>555297</td>\n",
       "      <td>1</td>\n",
       "      <td>2406580</td>\n",
       "      <td>CA</td>\n",
       "      <td>C</td>\n",
       "      <td>Likely_pathogenic</td>\n",
       "      <td>Peroxisome_biogenesis_disorder_6A|Peroxisome_b...</td>\n",
       "    </tr>\n",
       "    <tr>\n",
       "      <th>863</th>\n",
       "      <td>PEX10:5192</td>\n",
       "      <td>296273</td>\n",
       "      <td>1</td>\n",
       "      <td>2406580</td>\n",
       "      <td>CAG</td>\n",
       "      <td>C</td>\n",
       "      <td>Pathogenic</td>\n",
       "      <td>Zellweger_syndrome|Peroxisome_biogenesis_disor...</td>\n",
       "    </tr>\n",
       "    <tr>\n",
       "      <th>866</th>\n",
       "      <td>PEX10:5192</td>\n",
       "      <td>553074</td>\n",
       "      <td>1</td>\n",
       "      <td>2406599</td>\n",
       "      <td>GCT</td>\n",
       "      <td>G</td>\n",
       "      <td>Likely_pathogenic</td>\n",
       "      <td>Peroxisome_biogenesis_disorder_6A|Peroxisome_b...</td>\n",
       "    </tr>\n",
       "  </tbody>\n",
       "</table>\n",
       "<p>100 rows × 8 columns</p>\n",
       "</div>"
      ],
      "text/plain": [
       "        GENEINFO      ID  CHROM      POS  REF ALT             CLNSIG  \\\n",
       "2     ISG15:9636  183381      1  1014143    C   T         Pathogenic   \n",
       "8     ISG15:9636  161455      1  1014316    C  CG         Pathogenic   \n",
       "9     ISG15:9636  161454      1  1014359    G   T         Pathogenic   \n",
       "24   AGRN:375790  243036      1  1022225    G   A         Pathogenic   \n",
       "26   AGRN:375790  243037      1  1022313    A   T         Pathogenic   \n",
       "..           ...     ...    ...      ...  ...  ..                ...   \n",
       "852   PEX10:5192  197886      1  2406528    G  GC         Pathogenic   \n",
       "857   PEX10:5192  282334      1  2406561    C   A         Pathogenic   \n",
       "862   PEX10:5192  555297      1  2406580   CA   C  Likely_pathogenic   \n",
       "863   PEX10:5192  296273      1  2406580  CAG   C         Pathogenic   \n",
       "866   PEX10:5192  553074      1  2406599  GCT   G  Likely_pathogenic   \n",
       "\n",
       "                                                 CLNDN  \n",
       "2    Immunodeficiency_38_with_basal_ganglia_calcifi...  \n",
       "8    Immunodeficiency_38_with_basal_ganglia_calcifi...  \n",
       "9    Immunodeficiency_38_with_basal_ganglia_calcifi...  \n",
       "24                      Congenital_myasthenic_syndrome  \n",
       "26                      Congenital_myasthenic_syndrome  \n",
       "..                                                 ...  \n",
       "852                                                NaN  \n",
       "857                                                NaN  \n",
       "862  Peroxisome_biogenesis_disorder_6A|Peroxisome_b...  \n",
       "863  Zellweger_syndrome|Peroxisome_biogenesis_disor...  \n",
       "866  Peroxisome_biogenesis_disorder_6A|Peroxisome_b...  \n",
       "\n",
       "[100 rows x 8 columns]"
      ]
     },
     "execution_count": 16,
     "metadata": {},
     "output_type": "execute_result"
    }
   ],
   "source": [
    "pathogenic = ['Pathogenic', 'Likely_pathogenic', 'Pathogenic/Likely_pathogenic']\n",
    "harmful = cleaned[cleaned['CLNSIG'].isin(pathogenic)]\n",
    "print(harmful.shape)\n",
    "harmful.head(100)"
   ]
  },
  {
   "cell_type": "markdown",
   "metadata": {
    "id": "QvWAQKYag7Tr"
   },
   "source": [
    "4) Please Write your assumptions here:\n",
    "\n",
    "To determine whether a mutation is harmful, we need to examine which variables could give an indication whether the mutation is dangerous. Upon looking at variables that offer a bit more qualitative information, we can infer the most relevant ones are Clinical Significance and Disease name implicated by the mutation. This was done through a value_counts to build intuition about the data. We can see that the mutation is classified as either Likely benign, benign, likely pathogenic, or pathogenic. These are the four most relevant categories for this variable."
   ]
  },
  {
   "cell_type": "markdown",
   "metadata": {
    "id": "_r9uXf94g7Ts"
   },
   "source": [
    "4) Findings / What would you present to your boss?"
   ]
  },
  {
   "cell_type": "markdown",
   "metadata": {},
   "source": [
    "I took two approaches to answer address this question. The first was to look at the top 100 genes that had the highest proportions of being pathogenic with their mutations. This was done by grouping the genes together and determine the proportion of pathogenic mutations relative to total clinical significance including those that were benign. Some of the genes that were most susceptible to forming dangerous combinations with other mutations were AGXT:189, AHDC:27245, AMT:275, BCHE:590, and BTD:686. All their combinations with any one mutation were either pathogenic or likely pathogenic.\n",
    "\n",
    "The next approach was the more direct approach where I only showed the gene and mutation combinations that gave pathogenic or likely pathogenic clinical significance. This gave a total of 19,436 combinations that were dangerous or likely dangerous."
   ]
  },
  {
   "cell_type": "code",
   "execution_count": null,
   "metadata": {},
   "outputs": [],
   "source": []
  }
 ],
 "metadata": {
  "colab": {
   "provenance": []
  },
  "kernelspec": {
   "display_name": "Python 3 (ipykernel)",
   "language": "python",
   "name": "python3"
  },
  "language_info": {
   "codemirror_mode": {
    "name": "ipython",
    "version": 3
   },
   "file_extension": ".py",
   "mimetype": "text/x-python",
   "name": "python",
   "nbconvert_exporter": "python",
   "pygments_lexer": "ipython3",
   "version": "3.9.13"
  }
 },
 "nbformat": 4,
 "nbformat_minor": 1
}
